{
 "cells": [
  {
   "cell_type": "code",
   "execution_count": null,
   "metadata": {},
   "outputs": [],
   "source": [
    "from sklearn.datasets import fetch_openml\n",
    "from sklearn.multiclass import OneVsOneClassifier\n",
    "from sklearn.tree import DecisionTreeRegressor\n",
    "\n",
    "import numpy as np\n",
    "\n",
    "mnist=fetch_openml('mnist_784',version=1, as_frame=False)\n",
    "X,y=mnist['data'],mnist['target']\n",
    "ovo_clf=OneVsOneClassifier(DecisionTreeRegressor(random_state=42))\n",
    "X_train,X_test,y_train,y_test= X[:60000],X[60000:],y[:60000],y[60000:]\n",
    "some_digit=X[0]\n",
    "ovo_clf.fit(X_train,y_train)\n",
    "ovo_clf.predict([some_digit])\n",
    "\n",
    "print(\"Prediction: \",ovo_clf.predict([some_digit]))\n",
    "\n",
    "print(ovo_clf.decision_function([some_digit]))\n",
    "print(np.argmax(ovo_clf.decision_function([some_digit])))\n",
    "print(\"Total class: \",len(ovo_clf.estimators_))"
   ]
  },
  {
   "cell_type": "markdown",
   "metadata": {},
   "source": [
    "# Output"
   ]
  },
  {
   "cell_type": "raw",
   "metadata": {},
   "source": [
    "Prediction:  ['5']\n",
    "[[1.70833333 2.72222222 2.73333333 8.22222222 2.77777778 9.27777778\n",
    "  0.77777778 3.16666667 6.27777778 7.29166667]]\n",
    "5\n",
    "Total class:  45"
   ]
  }
 ],
 "metadata": {
  "kernelspec": {
   "display_name": "Python 3",
   "language": "python",
   "name": "python3"
  },
  "language_info": {
   "codemirror_mode": {
    "name": "ipython",
    "version": 3
   },
   "file_extension": ".py",
   "mimetype": "text/x-python",
   "name": "python",
   "nbconvert_exporter": "python",
   "pygments_lexer": "ipython3",
   "version": "3.8.3"
  }
 },
 "nbformat": 4,
 "nbformat_minor": 4
}
